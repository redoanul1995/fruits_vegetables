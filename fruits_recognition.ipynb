{
  "nbformat": 4,
  "nbformat_minor": 0,
  "metadata": {
    "colab": {
      "name": "fruits_recognition.ipynb",
      "provenance": [],
      "collapsed_sections": []
    },
    "kernelspec": {
      "display_name": "Python 3",
      "name": "python3"
    },
    "language_info": {
      "name": "python"
    }
  },
  "cells": [
    {
      "cell_type": "code",
      "metadata": {
        "colab": {
          "base_uri": "https://localhost:8080/"
        },
        "id": "E3pl3U-Ie98r",
        "outputId": "7dc21b88-e64d-40c0-b350-bcadce4df29b"
      },
      "source": [
        "from google.colab import drive\n",
        "drive.mount('/content/mount')"
      ],
      "execution_count": null,
      "outputs": [
        {
          "output_type": "stream",
          "text": [
            "Mounted at /content/mount\n"
          ],
          "name": "stdout"
        }
      ]
    },
    {
      "cell_type": "code",
      "metadata": {
        "id": "BTK7fCKpfo3S"
      },
      "source": [
        "!unzip -uq \"/content/mount/MyDrive/fruits_training/fruits_training.zip\" -d \"/content/mount/MyDrive/\""
      ],
      "execution_count": null,
      "outputs": []
    },
    {
      "cell_type": "code",
      "metadata": {
        "id": "pRqglFq7RzMx"
      },
      "source": [
        "!unzip -uq \"/content/mount/MyDrive/fruits_test/fruits_test.zip\" -d \"/content/mount/MyDrive/\""
      ],
      "execution_count": null,
      "outputs": []
    },
    {
      "cell_type": "code",
      "metadata": {
        "id": "D9Q_uq-pWb0-"
      },
      "source": [
        "train_datadir = \"/content/mount/MyDrive/fruits_training\"\n",
        "test_datadir = \"/content/mount/MyDrive/fruits_test\""
      ],
      "execution_count": null,
      "outputs": []
    },
    {
      "cell_type": "code",
      "metadata": {
        "id": "9MALU_DeWrau"
      },
      "source": [
        "%tensorflow_version 2.x\n",
        "import tensorflow as tf\n",
        "from tensorflow import keras\n",
        "from keras.preprocessing.image import ImageDataGenerator\n",
        "from keras.models import Sequential\n",
        "from keras.layers import Dense, Dropout, Activation, Flatten\n",
        "from keras.layers import Conv2D, MaxPooling2D"
      ],
      "execution_count": null,
      "outputs": []
    },
    {
      "cell_type": "code",
      "metadata": {
        "id": "dM2lI9eQZZLZ"
      },
      "source": [
        "Generator = ImageDataGenerator()"
      ],
      "execution_count": null,
      "outputs": []
    },
    {
      "cell_type": "code",
      "metadata": {
        "colab": {
          "base_uri": "https://localhost:8080/"
        },
        "id": "LrqtHFarZjjX",
        "outputId": "0a5a051b-8587-4f50-f157-5f031976461b"
      },
      "source": [
        "train_data = Generator.flow_from_directory(train_datadir, (100, 100), batch_size=32)"
      ],
      "execution_count": null,
      "outputs": [
        {
          "output_type": "stream",
          "text": [
            "Found 24741 images belonging to 50 classes.\n"
          ],
          "name": "stdout"
        }
      ]
    },
    {
      "cell_type": "code",
      "metadata": {
        "colab": {
          "base_uri": "https://localhost:8080/"
        },
        "id": "qb8I5kOLZyJF",
        "outputId": "0645124a-4983-49a9-8d02-92b27f91b077"
      },
      "source": [
        "test_data = Generator.flow_from_directory(test_datadir, (100, 100), batch_size=32)"
      ],
      "execution_count": null,
      "outputs": [
        {
          "output_type": "stream",
          "text": [
            "Found 8280 images belonging to 50 classes.\n"
          ],
          "name": "stdout"
        }
      ]
    },
    {
      "cell_type": "code",
      "metadata": {
        "colab": {
          "base_uri": "https://localhost:8080/"
        },
        "id": "VxAkNf1qZ-mi",
        "outputId": "d2adc7e8-df76-41d8-a0c3-8d89241bb56d"
      },
      "source": [
        "model = Sequential()\n",
        "\n",
        "model.add(Conv2D(16, (5, 5), input_shape=(100, 100, 3), activation='relu'))\n",
        "model.add(MaxPooling2D(pool_size=(2, 2), strides=2))\n",
        "model.add(Dropout(0.05))\n",
        "\n",
        "model.add(Conv2D(32, (5, 5), activation='relu'))\n",
        "model.add(MaxPooling2D(pool_size=(2, 2), strides=2))\n",
        "model.add(Dropout(0.05))\n",
        "\n",
        "model.add(Conv2D(64, (5, 5),activation='relu'))\n",
        "model.add(MaxPooling2D(pool_size=(2, 2), strides=2))\n",
        "model.add(Dropout(0.05))\n",
        "\n",
        "model.add(Conv2D(128, (5, 5), activation='relu'))\n",
        "model.add(MaxPooling2D(pool_size=(2, 2), strides=2))\n",
        "model.add(Dropout(0.05))\n",
        "\n",
        "model.add(Flatten())\n",
        "\n",
        "model.add(Dense(1024, activation='relu'))\n",
        "model.add(Dropout(0.05))\n",
        "\n",
        "model.add(Dense(256, activation='relu'))\n",
        "model.add(Dropout(0.05))\n",
        "\n",
        "model.add(Dense(50, activation=\"softmax\"))\n",
        "model.summary()\n",
        "\n",
        "model.compile(loss=keras.losses.categorical_crossentropy,\n",
        "              optimizer=keras.optimizers.Adam(),\n",
        "              metrics=['accuracy'])\n",
        "model.fit(train_data,\n",
        "                    steps_per_epoch=1000//32,\n",
        "                    epochs=50,\n",
        "                    verbose=1,\n",
        "                    validation_data=test_data, validation_steps = 3)"
      ],
      "execution_count": null,
      "outputs": [
        {
          "output_type": "stream",
          "text": [
            "Model: \"sequential_3\"\n",
            "_________________________________________________________________\n",
            "Layer (type)                 Output Shape              Param #   \n",
            "=================================================================\n",
            "conv2d_12 (Conv2D)           (None, 96, 96, 16)        1216      \n",
            "_________________________________________________________________\n",
            "max_pooling2d_12 (MaxPooling (None, 48, 48, 16)        0         \n",
            "_________________________________________________________________\n",
            "dropout_18 (Dropout)         (None, 48, 48, 16)        0         \n",
            "_________________________________________________________________\n",
            "conv2d_13 (Conv2D)           (None, 44, 44, 32)        12832     \n",
            "_________________________________________________________________\n",
            "max_pooling2d_13 (MaxPooling (None, 22, 22, 32)        0         \n",
            "_________________________________________________________________\n",
            "dropout_19 (Dropout)         (None, 22, 22, 32)        0         \n",
            "_________________________________________________________________\n",
            "conv2d_14 (Conv2D)           (None, 18, 18, 64)        51264     \n",
            "_________________________________________________________________\n",
            "max_pooling2d_14 (MaxPooling (None, 9, 9, 64)          0         \n",
            "_________________________________________________________________\n",
            "dropout_20 (Dropout)         (None, 9, 9, 64)          0         \n",
            "_________________________________________________________________\n",
            "conv2d_15 (Conv2D)           (None, 5, 5, 128)         204928    \n",
            "_________________________________________________________________\n",
            "max_pooling2d_15 (MaxPooling (None, 2, 2, 128)         0         \n",
            "_________________________________________________________________\n",
            "dropout_21 (Dropout)         (None, 2, 2, 128)         0         \n",
            "_________________________________________________________________\n",
            "flatten_3 (Flatten)          (None, 512)               0         \n",
            "_________________________________________________________________\n",
            "dense_9 (Dense)              (None, 1024)              525312    \n",
            "_________________________________________________________________\n",
            "dropout_22 (Dropout)         (None, 1024)              0         \n",
            "_________________________________________________________________\n",
            "dense_10 (Dense)             (None, 256)               262400    \n",
            "_________________________________________________________________\n",
            "dropout_23 (Dropout)         (None, 256)               0         \n",
            "_________________________________________________________________\n",
            "dense_11 (Dense)             (None, 50)                12850     \n",
            "=================================================================\n",
            "Total params: 1,070,802\n",
            "Trainable params: 1,070,802\n",
            "Non-trainable params: 0\n",
            "_________________________________________________________________\n",
            "Epoch 1/50\n",
            "31/31 [==============================] - 353s 11s/step - loss: 12.2080 - accuracy: 0.0328 - val_loss: 3.5965 - val_accuracy: 0.0729\n",
            "Epoch 2/50\n",
            "31/31 [==============================] - 344s 11s/step - loss: 3.2315 - accuracy: 0.1380 - val_loss: 2.7281 - val_accuracy: 0.1771\n",
            "Epoch 3/50\n",
            "31/31 [==============================] - 326s 11s/step - loss: 2.2784 - accuracy: 0.3313 - val_loss: 2.0763 - val_accuracy: 0.3542\n",
            "Epoch 4/50\n",
            "31/31 [==============================] - 310s 10s/step - loss: 1.6747 - accuracy: 0.5046 - val_loss: 1.1992 - val_accuracy: 0.6042\n",
            "Epoch 5/50\n",
            "31/31 [==============================] - 291s 9s/step - loss: 1.2563 - accuracy: 0.6231 - val_loss: 1.3695 - val_accuracy: 0.5625\n",
            "Epoch 6/50\n",
            "31/31 [==============================] - 271s 9s/step - loss: 0.9150 - accuracy: 0.6943 - val_loss: 1.5268 - val_accuracy: 0.5312\n",
            "Epoch 7/50\n",
            "31/31 [==============================] - 271s 9s/step - loss: 0.8632 - accuracy: 0.7291 - val_loss: 0.8707 - val_accuracy: 0.7083\n",
            "Epoch 8/50\n",
            "31/31 [==============================] - 338s 11s/step - loss: 0.6115 - accuracy: 0.8025 - val_loss: 0.8136 - val_accuracy: 0.6771\n",
            "Epoch 9/50\n",
            "31/31 [==============================] - 240s 8s/step - loss: 0.7127 - accuracy: 0.7559 - val_loss: 1.2730 - val_accuracy: 0.6979\n",
            "Epoch 10/50\n",
            "31/31 [==============================] - 237s 8s/step - loss: 0.5633 - accuracy: 0.8071 - val_loss: 0.9992 - val_accuracy: 0.6979\n",
            "Epoch 11/50\n",
            "31/31 [==============================] - 284s 9s/step - loss: 0.6415 - accuracy: 0.7836 - val_loss: 0.9659 - val_accuracy: 0.7708\n",
            "Epoch 12/50\n",
            "31/31 [==============================] - 209s 7s/step - loss: 0.4319 - accuracy: 0.8455 - val_loss: 1.1165 - val_accuracy: 0.6771\n",
            "Epoch 13/50\n",
            "31/31 [==============================] - 199s 6s/step - loss: 0.5277 - accuracy: 0.8182 - val_loss: 0.7132 - val_accuracy: 0.7812\n",
            "Epoch 14/50\n",
            "31/31 [==============================] - 196s 6s/step - loss: 0.5444 - accuracy: 0.8226 - val_loss: 0.7575 - val_accuracy: 0.7708\n",
            "Epoch 15/50\n",
            "31/31 [==============================] - 177s 6s/step - loss: 0.3035 - accuracy: 0.9118 - val_loss: 1.0464 - val_accuracy: 0.7292\n",
            "Epoch 16/50\n",
            "31/31 [==============================] - 190s 6s/step - loss: 0.3631 - accuracy: 0.8709 - val_loss: 0.7897 - val_accuracy: 0.7292\n",
            "Epoch 17/50\n",
            "31/31 [==============================] - 163s 5s/step - loss: 0.2993 - accuracy: 0.9117 - val_loss: 0.8725 - val_accuracy: 0.7917\n",
            "Epoch 18/50\n",
            "31/31 [==============================] - 172s 6s/step - loss: 0.3996 - accuracy: 0.8620 - val_loss: 0.6254 - val_accuracy: 0.8438\n",
            "Epoch 19/50\n",
            "31/31 [==============================] - 153s 5s/step - loss: 0.2467 - accuracy: 0.9166 - val_loss: 0.8311 - val_accuracy: 0.7708\n",
            "Epoch 20/50\n",
            "31/31 [==============================] - 153s 5s/step - loss: 0.3795 - accuracy: 0.8877 - val_loss: 0.5992 - val_accuracy: 0.8021\n",
            "Epoch 21/50\n",
            "31/31 [==============================] - 195s 6s/step - loss: 0.2471 - accuracy: 0.9150 - val_loss: 0.6616 - val_accuracy: 0.8542\n",
            "Epoch 22/50\n",
            "31/31 [==============================] - 151s 5s/step - loss: 0.2191 - accuracy: 0.9266 - val_loss: 0.6020 - val_accuracy: 0.8333\n",
            "Epoch 23/50\n",
            "31/31 [==============================] - 136s 4s/step - loss: 0.3115 - accuracy: 0.9091 - val_loss: 0.6397 - val_accuracy: 0.8125\n",
            "Epoch 24/50\n",
            "31/31 [==============================] - 117s 4s/step - loss: 0.2407 - accuracy: 0.9193 - val_loss: 0.9793 - val_accuracy: 0.7292\n",
            "Epoch 25/50\n",
            "31/31 [==============================] - 124s 4s/step - loss: 0.3608 - accuracy: 0.8872 - val_loss: 1.0913 - val_accuracy: 0.7500\n",
            "Epoch 26/50\n",
            "31/31 [==============================] - 109s 4s/step - loss: 0.3459 - accuracy: 0.8862 - val_loss: 0.5219 - val_accuracy: 0.8750\n",
            "Epoch 27/50\n",
            "31/31 [==============================] - 111s 4s/step - loss: 0.2268 - accuracy: 0.9222 - val_loss: 0.7482 - val_accuracy: 0.8854\n",
            "Epoch 28/50\n",
            "31/31 [==============================] - 108s 3s/step - loss: 0.2169 - accuracy: 0.9193 - val_loss: 1.3065 - val_accuracy: 0.7396\n",
            "Epoch 29/50\n",
            "31/31 [==============================] - 112s 4s/step - loss: 0.1971 - accuracy: 0.9452 - val_loss: 0.5290 - val_accuracy: 0.8542\n",
            "Epoch 30/50\n",
            "31/31 [==============================] - 105s 3s/step - loss: 0.5395 - accuracy: 0.8345 - val_loss: 0.8040 - val_accuracy: 0.7708\n",
            "Epoch 31/50\n",
            "31/31 [==============================] - 99s 3s/step - loss: 0.2247 - accuracy: 0.9341 - val_loss: 0.8140 - val_accuracy: 0.8333\n",
            "Epoch 32/50\n",
            "31/31 [==============================] - 106s 3s/step - loss: 0.1646 - accuracy: 0.9404 - val_loss: 0.7064 - val_accuracy: 0.8229\n",
            "Epoch 33/50\n",
            "31/31 [==============================] - 87s 3s/step - loss: 0.1884 - accuracy: 0.9414 - val_loss: 0.5817 - val_accuracy: 0.8646\n",
            "Epoch 34/50\n",
            "31/31 [==============================] - 83s 3s/step - loss: 0.2137 - accuracy: 0.9278 - val_loss: 0.4217 - val_accuracy: 0.8438\n",
            "Epoch 35/50\n",
            "31/31 [==============================] - 82s 3s/step - loss: 0.1850 - accuracy: 0.9406 - val_loss: 0.8000 - val_accuracy: 0.8021\n",
            "Epoch 36/50\n",
            "31/31 [==============================] - 81s 3s/step - loss: 0.1924 - accuracy: 0.9474 - val_loss: 1.4229 - val_accuracy: 0.6875\n",
            "Epoch 37/50\n",
            "31/31 [==============================] - 76s 2s/step - loss: 0.3004 - accuracy: 0.9042 - val_loss: 0.3554 - val_accuracy: 0.9167\n",
            "Epoch 38/50\n",
            "31/31 [==============================] - 66s 2s/step - loss: 0.2584 - accuracy: 0.9363 - val_loss: 0.5178 - val_accuracy: 0.8333\n",
            "Epoch 39/50\n",
            "31/31 [==============================] - 69s 2s/step - loss: 0.1456 - accuracy: 0.9486 - val_loss: 0.2631 - val_accuracy: 0.9062\n",
            "Epoch 40/50\n",
            "31/31 [==============================] - 66s 2s/step - loss: 0.1899 - accuracy: 0.9475 - val_loss: 0.3835 - val_accuracy: 0.9167\n",
            "Epoch 41/50\n",
            "31/31 [==============================] - 70s 2s/step - loss: 0.0937 - accuracy: 0.9672 - val_loss: 0.4532 - val_accuracy: 0.8750\n",
            "Epoch 42/50\n",
            "31/31 [==============================] - 60s 2s/step - loss: 0.1986 - accuracy: 0.9282 - val_loss: 0.6036 - val_accuracy: 0.8646\n",
            "Epoch 43/50\n",
            "31/31 [==============================] - 55s 2s/step - loss: 0.1517 - accuracy: 0.9399 - val_loss: 0.7560 - val_accuracy: 0.8125\n",
            "Epoch 44/50\n",
            "31/31 [==============================] - 58s 2s/step - loss: 0.2190 - accuracy: 0.9229 - val_loss: 0.3913 - val_accuracy: 0.8854\n",
            "Epoch 45/50\n",
            "31/31 [==============================] - 53s 2s/step - loss: 0.0846 - accuracy: 0.9726 - val_loss: 0.3921 - val_accuracy: 0.9062\n",
            "Epoch 46/50\n",
            "31/31 [==============================] - 53s 2s/step - loss: 0.1444 - accuracy: 0.9429 - val_loss: 1.0603 - val_accuracy: 0.7812\n",
            "Epoch 47/50\n",
            "31/31 [==============================] - 52s 2s/step - loss: 0.1519 - accuracy: 0.9544 - val_loss: 0.3741 - val_accuracy: 0.9167\n",
            "Epoch 48/50\n",
            "31/31 [==============================] - 50s 2s/step - loss: 0.1112 - accuracy: 0.9579 - val_loss: 0.6491 - val_accuracy: 0.8646\n",
            "Epoch 49/50\n",
            "31/31 [==============================] - 49s 2s/step - loss: 0.0715 - accuracy: 0.9735 - val_loss: 0.5122 - val_accuracy: 0.8333\n",
            "Epoch 50/50\n",
            "31/31 [==============================] - 47s 2s/step - loss: 0.1011 - accuracy: 0.9677 - val_loss: 1.0657 - val_accuracy: 0.8646\n"
          ],
          "name": "stdout"
        },
        {
          "output_type": "execute_result",
          "data": {
            "text/plain": [
              "<tensorflow.python.keras.callbacks.History at 0x7f950989e650>"
            ]
          },
          "metadata": {
            "tags": []
          },
          "execution_count": 29
        }
      ]
    },
    {
      "cell_type": "code",
      "metadata": {
        "colab": {
          "base_uri": "https://localhost:8080/",
          "height": 232
        },
        "id": "dCIiTofS4jzy",
        "outputId": "a137296a-6134-4886-c252-3a8e1882d8b8"
      },
      "source": [
        "filepath = r\"/content/mount/MyDrive/saved_model\"\n",
        "keras.models.save_model(\n",
        "    model,\n",
        "    filepath,\n",
        "    overwrite = True,\n",
        "    include_optimizer = True,\n",
        "    save_format = \"tf\",\n",
        "    signatures = None\n",
        ")"
      ],
      "execution_count": null,
      "outputs": [
        {
          "output_type": "error",
          "ename": "NameError",
          "evalue": "ignored",
          "traceback": [
            "\u001b[0;31m---------------------------------------------------------------------------\u001b[0m",
            "\u001b[0;31mNameError\u001b[0m                                 Traceback (most recent call last)",
            "\u001b[0;32m<ipython-input-4-c8b56ad92418>\u001b[0m in \u001b[0;36m<module>\u001b[0;34m()\u001b[0m\n\u001b[1;32m      1\u001b[0m \u001b[0mfilepath\u001b[0m \u001b[0;34m=\u001b[0m \u001b[0;34mr\"/content/mount/MyDrive/saved_model\"\u001b[0m\u001b[0;34m\u001b[0m\u001b[0;34m\u001b[0m\u001b[0m\n\u001b[1;32m      2\u001b[0m keras.models.save_model(\n\u001b[0;32m----> 3\u001b[0;31m     \u001b[0mmodel\u001b[0m\u001b[0;34m,\u001b[0m\u001b[0;34m\u001b[0m\u001b[0;34m\u001b[0m\u001b[0m\n\u001b[0m\u001b[1;32m      4\u001b[0m     \u001b[0mfilepath\u001b[0m\u001b[0;34m,\u001b[0m\u001b[0;34m\u001b[0m\u001b[0;34m\u001b[0m\u001b[0m\n\u001b[1;32m      5\u001b[0m     \u001b[0moverwrite\u001b[0m \u001b[0;34m=\u001b[0m \u001b[0;32mTrue\u001b[0m\u001b[0;34m,\u001b[0m\u001b[0;34m\u001b[0m\u001b[0;34m\u001b[0m\u001b[0m\n",
            "\u001b[0;31mNameError\u001b[0m: name 'model' is not defined"
          ]
        }
      ]
    },
    {
      "cell_type": "markdown",
      "metadata": {
        "id": "WXF9PSam9qC6"
      },
      "source": [
        "Loading the dataset"
      ]
    },
    {
      "cell_type": "code",
      "metadata": {
        "id": "YbXpvTYh9toy"
      },
      "source": [
        "model_dir = r\"/content/mount/MyDrive/fruits/saved_model\"\n",
        "\n",
        "new_fruit_model = keras.models.load_model(\n",
        "    model_dir,\n",
        "    custom_objects = None,\n",
        "    compile = True\n",
        ")"
      ],
      "execution_count": null,
      "outputs": []
    },
    {
      "cell_type": "code",
      "metadata": {
        "colab": {
          "base_uri": "https://localhost:8080/"
        },
        "id": "pMU0VG77AwNt",
        "outputId": "c0ab7f28-4c52-4fc3-ba38-559a6efd66cf"
      },
      "source": [
        "import numpy as np\n",
        "\n",
        "new_fruit_model.compile(loss=keras.losses.categorical_crossentropy,\n",
        "              optimizer=keras.optimizers.Adam(),\n",
        "              metrics=['accuracy'])\n",
        "img = keras.preprocessing.image.load_img('/content/mount/MyDrive/fruits/fruits_test/mango.jpg', target_size=(100,100))\n",
        "x = keras.preprocessing.image.img_to_array(img)\n",
        "x = np.expand_dims(x, axis=0)\n",
        "images = np.vstack([x])\n",
        "classes = new_fruit_model.predict_classes(images, batch_size=10)\n",
        "print(classes[0])"
      ],
      "execution_count": null,
      "outputs": [
        {
          "output_type": "stream",
          "text": [
            "/usr/local/lib/python3.7/dist-packages/tensorflow/python/keras/engine/sequential.py:450: UserWarning: `model.predict_classes()` is deprecated and will be removed after 2021-01-01. Please use instead:* `np.argmax(model.predict(x), axis=-1)`,   if your model does multi-class classification   (e.g. if it uses a `softmax` last-layer activation).* `(model.predict(x) > 0.5).astype(\"int32\")`,   if your model does binary classification   (e.g. if it uses a `sigmoid` last-layer activation).\n",
            "  warnings.warn('`model.predict_classes()` is deprecated and '\n"
          ],
          "name": "stderr"
        },
        {
          "output_type": "stream",
          "text": [
            "11\n"
          ],
          "name": "stdout"
        }
      ]
    },
    {
      "cell_type": "code",
      "metadata": {
        "colab": {
          "base_uri": "https://localhost:8080/"
        },
        "id": "NbB4LB3itLae",
        "outputId": "4e2303ab-435c-45f6-bb3a-dde9e4fe421b"
      },
      "source": [
        "recognized_fruit = ''\n",
        "\n",
        "if (classes[0]>=0 and classes[0]<=12):\n",
        "  recognized_fruit = 'apple'\n",
        "if (classes[0]>=13 and classes[0]<=15):\n",
        "  recognized_fruit = 'banana'\n",
        "if classes[0] == 16:\n",
        "  recognized_fruit = 'cauliflower'\n",
        "if (classes[0]>=17 and classes[0]<=18):\n",
        "  recognized_fruit = 'corn'\n",
        "if (classes[0] == 19):\n",
        "  recognized_fruit = 'date'\n",
        "if (classes[0] == 20):\n",
        "  recognized_fruit = 'eggplant'\n",
        "if (classes[0] == 21):\n",
        "  recognized_fruit = 'ginger'\n",
        "if (classes[0] == 22):\n",
        "  recognized_fruit = 'guava'\n",
        "if (classes[0]>=23 and classes[0]<=24):\n",
        "  recognized_fruit = 'lemon'\n",
        "if (classes[0] == 25):\n",
        "  recognized_fruit = 'lychee'\n",
        "if (classes[0]>=26 and classes[0]<=27):\n",
        "  recognized_fruit = 'mango'\n",
        "if (classes[0]>=28 and classes[0]<=30):\n",
        "  recognized_fruit = 'onion'\n",
        "if (classes[0] == 31):\n",
        "  recognized_fruit = 'orange'\n",
        "if (classes[0] == 32):\n",
        "  recognized_fruit = 'papaya'\n",
        "if (classes[0]>=33 and classes[0]<=34):\n",
        "  recognized_fruit = 'pineapple'\n",
        "if (classes[0] == 35):\n",
        "  recognized_fruit = 'pomegranate'\n",
        "if (classes[0]>=36 and classes[0]<=39):\n",
        "  recognized_fruit = 'potato'\n",
        "if (classes[0]>=40 and classes[0]<=48):\n",
        "  recognized_fruit = 'tomato'\n",
        "if (classes[0] == 49):\n",
        "  recognized_fruit = 'watermelon'\n",
        "\n",
        "print(recognized_fruit)"
      ],
      "execution_count": null,
      "outputs": [
        {
          "output_type": "stream",
          "text": [
            "apple\n"
          ],
          "name": "stdout"
        }
      ]
    },
    {
      "cell_type": "markdown",
      "metadata": {
        "id": "GL6SixjSCteo"
      },
      "source": [
        "Calories calculation using bmr (Basal Metabolic Rate) using Mifflin-St Jeor formula"
      ]
    },
    {
      "cell_type": "code",
      "metadata": {
        "colab": {
          "base_uri": "https://localhost:8080/"
        },
        "id": "H-vdnYJuA2UX",
        "outputId": "caf0a9d0-bb48-4128-b7ae-5a0778e25fad"
      },
      "source": [
        "print(\"1.Adult Men\")\n",
        "print(\"2.Adult Women\")\n",
        "print(\"Enter 1 or 2 to select your gender:\")\n",
        "gender = int(input())\n",
        "print(\"Enter your weight in kg:\")\n",
        "weight = int(input())\n",
        "print(\"Enter your height in cm:\")\n",
        "height = int(input())\n",
        "print(\"Enter your age in years:\")\n",
        "age = int(input())\n",
        "bmr = 0\n",
        "if gender == 1:\n",
        "  bmr = 10*weight + 6.25*height - 5*age - 161\n",
        "else:\n",
        "  bmr = 10*weight + 6.25*height - 5*age + 5\n",
        "#print(bmr)\n",
        "print(\"tell about your activity:\")\n",
        "print(\"1.little or no exercise\")\n",
        "print(\"2.lightly active (light exercise/sports 1-3 days/week)\")\n",
        "print(\"3.moderately active (moderate exercise/sports 3-5 days/week)\")\n",
        "print(\"4.very active (hard exercise/sports 6-7 days a week)\")\n",
        "print(\"5.extra active (very hard exercise/sports & physical job or 2x training)\")\n",
        "print(\"Enter 1,2,3,4 or 5 to select your activity\")\n",
        "activity = int(input())\n",
        "required_calories = 0\n",
        "if activity == 1:\n",
        "  required_calories = bmr * 1.2\n",
        "elif activity == 2:\n",
        "  required_calories = bmr * 1.375\n",
        "elif activity == 3:\n",
        "  required_calories = bmr * 1.55\n",
        "elif activity == 4:\n",
        "  required_calories = bmr * 1.725\n",
        "else:\n",
        "  required_calories = bmr*1.9\n",
        "print(f\"Your daily required calories {required_calories}\")"
      ],
      "execution_count": null,
      "outputs": [
        {
          "output_type": "stream",
          "text": [
            "1.Adult Men\n",
            "2.Adult Women\n",
            "Enter 1 or 2 to select your gender:\n",
            "1\n",
            "Enter your weight in kg:\n",
            "65\n",
            "Enter your height in cm:\n",
            "178\n",
            "Enter your age in years:\n",
            "26\n",
            "tell about your activity:\n",
            "1.little or no exercise\n",
            "2.lightly active (light exercise/sports 1-3 days/week)\n",
            "3.moderately active (moderate exercise/sports 3-5 days/week)\n",
            "4.very active (hard exercise/sports 6-7 days a week)\n",
            "5.extra active (very hard exercise/sports & physical job or 2x training)\n",
            "Enter 1,2,3,4 or 5 to select your activity\n",
            "1\n",
            "Your daily required calories 1765.8\n"
          ],
          "name": "stdout"
        }
      ]
    },
    {
      "cell_type": "code",
      "metadata": {
        "colab": {
          "base_uri": "https://localhost:8080/"
        },
        "id": "uHu_Mr4PTA19",
        "outputId": "5b2a1d3b-76a7-4de2-b250-94d91f7f141b"
      },
      "source": [
        "import pandas as pd\n",
        "from IPython.display import display\n",
        "pd.options.display.max_columns = None\n",
        "\n",
        "sex = ''\n",
        "if gender == 1:\n",
        "  sex = 'male'\n",
        "else:\n",
        "  sex = 'female'\n",
        "\n",
        "print(\"How much \"+recognized_fruit+\"(s) ? (amount in grams)\")\n",
        "amount = int(input())\n",
        "df = pd.read_csv('/content/mount/MyDrive/fruits/fruits_nutrition_list/nutrition list - Sheet1.csv')\n",
        "nutrition = df[df.name == recognized_fruit]\n",
        "\n",
        "calories = nutrition.calories\n",
        "potassium = nutrition.potassium_g\n",
        "vitamin_a = nutrition.vitamin_a_g\n",
        "vitamin_c = nutrition.vitamin_c_g\n",
        "calcium = nutrition.calcium_g\n",
        "vitamin_b6 = nutrition.vitamin_b6_g\n",
        "magnesium = nutrition.magnesium_g\n",
        "protein = nutrition.protein_g\n",
        "sodium = nutrition.sodium_g\n",
        "\n",
        "calories = (calories*amount)/100\n",
        "potassium = (potassium*amount)/100\n",
        "vitamin_a = (vitamin_a*amount)/100\n",
        "vitamin_c = (vitamin_c*amount)/100\n",
        "calcium = (calcium*amount)/100\n",
        "vitamin_b6 = (vitamin_b6*amount)/100\n",
        "magnesium = (magnesium*amount)/100\n",
        "protein = (protein*amount)/100\n",
        "sodium = (sodium*amount)/100\n",
        "\n",
        "df2 = pd.read_csv('/content/mount/MyDrive/fruits/fruits_nutrition_list/fruitAndVitamin_suggestion - Sheet1.csv')\n",
        "required_nutrition = df2.loc[np.logical_and(df2.age == age, df2.sex == sex)]\n",
        "\n",
        "calories_indicator = required_calories - calories\n",
        "potassium_indicator = required_nutrition.potassium_g.values - potassium\n",
        "vitamin_a_indicator = required_nutrition.vitamin_a_gm.values - vitamin_a\n",
        "vitamin_c_indicator = required_nutrition.vitamin_c_gm.values - vitamin_c\n",
        "calcium_indicator = required_nutrition.calcium_g.values - calcium\n",
        "vitamin_b6_indicator = required_nutrition.vitamin_b6_gm.values - vitamin_b6\n",
        "magnesium_indicator = required_nutrition.magnesium_g.values - magnesium\n",
        "protein_indicator = required_nutrition.protein_g.values - protein\n",
        "sodium_indicator = required_nutrition.sodium_g.values - sodium\n",
        "\n",
        "\n",
        "calories_percentage = (calories_indicator*100)/required_calories\n",
        "potassium_percentage = (potassium_indicator*100)/required_nutrition.potassium_g.values\n",
        "vitamin_a_percentage = (vitamin_a_indicator*100)/required_nutrition.vitamin_a_gm.values\n",
        "vitamin_c_percentage = (vitamin_c_indicator*100)/required_nutrition.vitamin_c_gm.values\n",
        "calcium_percentage = (calcium_indicator*100)/required_nutrition.calcium_g.values\n",
        "vitamin_b6_percentage = (vitamin_b6_indicator*100)/required_nutrition.vitamin_b6_gm.values\n",
        "magnesium_percentage = (magnesium_indicator*100)/required_nutrition.magnesium_g.values\n",
        "protein_percentage = (protein_indicator*100)/required_nutrition.protein_g.values\n",
        "sodium_percentage = (sodium_indicator*100)/required_nutrition.sodium_g.values\n",
        "print('Calorie lacking '+str(calories_percentage.values[0])+'%')\n",
        "print('Potassium lacking '+str(potassium_percentage.values[0])+'%')\n",
        "print('Vitamin A lacking '+str(vitamin_a_percentage.values[0])+'%')\n",
        "print('Vitamin C lacking '+str(vitamin_c_percentage.values[0])+'%')\n",
        "print('Calcium lacking '+str(calcium_percentage.values[0])+'%')\n",
        "print('Vitamin B6 lacking '+str(vitamin_b6_percentage.values[0])+'%')\n",
        "print('Magnesium lacking '+str(magnesium_percentage.values[0])+'%')\n",
        "print('Protein lacking '+str(protein_percentage.values[0])+'%')\n",
        "print('Sodium lacking '+str(sodium_percentage.values[0])+'%')\n",
        "\n",
        "print(f'''you need to consume more {calories_indicator.values[0]} calories, {potassium_indicator.values[0]}g potassium, \n",
        "{vitamin_a_indicator.values[0]}g vitamin a, {vitamin_c_indicator.values[0]}g vitamin c, {calcium_indicator.values[0]}g calcium, {vitamin_b6_indicator.values[0]}g\n",
        " vitamin b6, {magnesium_indicator.values[0]}g magnesium, {protein_indicator.values[0]}g protein, {sodium_indicator.values[0]}g sodium''')"
      ],
      "execution_count": null,
      "outputs": [
        {
          "output_type": "stream",
          "text": [
            "How much apple(s) ? (amount in grams)\n",
            "100\n",
            "Calorie lacking 97.05515913466984%\n",
            "Potassium lacking 96.85294117647058%\n",
            "Vitamin A lacking 78.57142856666665%\n",
            "Vitamin C lacking 94.8888888888889%\n",
            "Calcium lacking 99.4%\n",
            "Vitamin B6 lacking 100.00000000000001%\n",
            "Magnesium lacking 98.75%\n",
            "Protein lacking 99.46428571428571%\n",
            "Sodium lacking 99.93333333333334%\n",
            "you need to consume more 1713.8 calories, 3.2929999999999997g potassium, \n",
            "0.0007071428570999999g vitamin a, 0.0854g vitamin c, 0.994g calcium, 0.0013g\n",
            " vitamin b6, 0.395g magnesium, 55.7g protein, 1.499g sodium\n"
          ],
          "name": "stdout"
        }
      ]
    },
    {
      "cell_type": "code",
      "metadata": {
        "id": "Zep15wi4NMAU",
        "colab": {
          "base_uri": "https://localhost:8080/"
        },
        "outputId": "43b4844c-ef54-49ac-cd9b-9ce2e472e78b"
      },
      "source": [
        "print(\"The least intaken nutrients are: Protein, vitamin B6, sodium,\")\n",
        "print(\"You should eat: guava, jackfruit, potato, banana, tomato, cucumber\")"
      ],
      "execution_count": null,
      "outputs": [
        {
          "output_type": "stream",
          "text": [
            "The least intaken nutrients are: Protein, vitamin B6, sodium,\n",
            "You should eat: guava, jackfruit, potato, banana, tomato, cucumber\n"
          ],
          "name": "stdout"
        }
      ]
    }
  ]
}